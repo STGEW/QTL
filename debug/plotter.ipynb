{
 "cells": [
  {
   "cell_type": "code",
   "execution_count": 1,
   "id": "dd040526-4595-49c2-aa3b-ad1e368c257a",
   "metadata": {},
   "outputs": [],
   "source": [
    "import sys\n",
    "import math\n",
    "sys.path.append('/home/afomin/projects/mj/quad/QTL/src/')"
   ]
  },
  {
   "cell_type": "code",
   "execution_count": 2,
   "id": "6c4b377b-c23c-4408-904e-08718035da4c",
   "metadata": {},
   "outputs": [],
   "source": [
    "from pid import PIDController as pid"
   ]
  },
  {
   "cell_type": "code",
   "execution_count": 3,
   "id": "7957f041-fab1-407a-95e7-cb6aa3883809",
   "metadata": {},
   "outputs": [],
   "source": [
    "kp = 7.5\n",
    "ki = 0.1\n",
    "kd = 0.5\n",
    "\n",
    "dt = 0.001\n",
    "\n",
    "tar = 0.0"
   ]
  },
  {
   "cell_type": "code",
   "execution_count": 4,
   "id": "2e6ddafb-0941-460c-a8d8-ffc8cf8a616f",
   "metadata": {},
   "outputs": [],
   "source": [
    "p = pid(kp=kp, ki=ki, kd=kd)"
   ]
  },
  {
   "cell_type": "code",
   "execution_count": 5,
   "id": "cd532b1d-7320-474e-b201-8da9e668a923",
   "metadata": {},
   "outputs": [
    {
     "name": "stdout",
     "output_type": "stream",
     "text": [
      "working range -30...+30 degr, or -0.5...+0.5 rads\n",
      "-0.50, -0.40, -0.30, -0.20, -0.10, 0.00, 0.10, 0.20, 0.30, 0.40, 0.50\n",
      "3.75, 3.00, 2.25, 1.50, 0.75, 0.00, -0.75, -1.50, -2.25, -3.00, -3.75\n"
     ]
    }
   ],
   "source": [
    "print('working range -30...+30 degr, or -0.5...+0.5 rads')\n",
    "out = []\n",
    "inp = []\n",
    "for i in range(-5, 6, 1):\n",
    "    inp.append(i/10.0)\n",
    "print(\", \".join(f\"{i:.2f}\" for i in inp))\n",
    "\n",
    "for i in inp:\n",
    "    out.append(p.update(tar, i, dt))\n",
    "print(\", \".join(f\"{i:.2f}\" for i in out))"
   ]
  },
  {
   "cell_type": "code",
   "execution_count": 6,
   "id": "653440c8-a3a8-412c-b423-382965b31e3f",
   "metadata": {},
   "outputs": [
    {
     "name": "stdout",
     "output_type": "stream",
     "text": [
      "working range -180...+180 degr, or -3.14...+3.14 rads\n",
      "-3.14, -2.79, -2.44, -2.09, -1.75, -1.40, -1.05, -0.70, -0.35, 0.00, 0.35, 0.70, 1.05, 1.40, 1.75, 2.09, 2.44, 2.79\n",
      "23.56, 20.94, 18.33, 15.71, 13.09, 10.47, 7.85, 5.24, 2.62, 0.00, -2.62, -5.24, -7.85, -10.47, -13.09, -15.71, -18.33, -20.94\n"
     ]
    }
   ],
   "source": [
    "print('working range -180...+180 degr, or -3.14...+3.14 rads')\n",
    "out = []\n",
    "inp = []\n",
    "for i in range(-180, 180, 20):\n",
    "    inp.append(math.radians(i))\n",
    "print(\", \".join(f\"{i:.2f}\" for i in inp))\n",
    "\n",
    "for i in inp:\n",
    "    out.append(p.update(tar, i, dt))\n",
    "print(\", \".join(f\"{i:.2f}\" for i in out))"
   ]
  },
  {
   "cell_type": "code",
   "execution_count": 7,
   "id": "6642e586-1ed8-4318-b5bf-bebafdf125cf",
   "metadata": {},
   "outputs": [
    {
     "data": {
      "text/plain": [
       "'\\nПИД регулятор выдает проценты мощности мотора.\\nПлюс надо учитывать, что у меня 3 ПИД регулятора, которые могут давать суммарный вклад\\nИтого может быть 3X от максимально выдаваемых значений ПИД регулятора\\n'"
      ]
     },
     "execution_count": 7,
     "metadata": {},
     "output_type": "execute_result"
    }
   ],
   "source": [
    "\"\"\"\n",
    "понять, в каком диапазоне вернут результат эти функции\n",
    "self.angles['roll'] = math.atan2(acc_y, acc_z)\n",
    "self.angles['pitch'] = math.atan2(-acc_x, acc_z)\n",
    "возвращает в диапазоне минус пи и плюс пи\n",
    "\"\"\"\n",
    "\"\"\"\n",
    "ПИД регулятор выдает проценты мощности мотора.\n",
    "Плюс надо учитывать, что у меня 3 ПИД регулятора, которые могут давать суммарный вклад\n",
    "Итого может быть 3X от максимально выдаваемых значений ПИД регулятора\n",
    "\n",
    "\n",
    "Какая логика - есть троттл, который я подаю, он может быть от 0 до 100%\n",
    "Т.е. это то значение, которое приходит от пульта\n",
    "\n",
    "Мы берем этот троттл, применяем наши ПИД значения, может получиться что-то вроде\n",
    "\n",
    "-3xPID.... 100% + 3xPID\n",
    "\n",
    "Мы берем эти значения и делаем так, чтобы минимальное значение стало  - т.е. \n",
    "\n",
    "Если на пульте 0 - что мы хотим? Мы хотим выключить моторы, ПИДы не работают,\n",
    "ошибки с них игнорируются и ничего не накапливается в них. Нужно сделать дернуть reset  метод в них?\n",
    "\n",
    "Если на пульте > 0 - мы хотим чтобы ПИДЫ работали как и должны\n",
    "\n",
    "Пиды могут дать значение < 0, а также значение > 100. Нас это не устраивает.\n",
    "Это должно обрабатываться после ПИДов. Как?\n",
    "Во-первых у нас не должно быть ситуации, когда на одном моторе < 0, на другом > 0.\n",
    "Это будет исключено выборов коэффициентов ПИД регулятора.\n",
    "\n",
    "Логика,\n",
    "1) если у нас < 0, мы берем все значения и сдвигаем их до +10 (MIN_ACTIVE_THROTTLE) вверх\n",
    "2) Дальше мы проверяем, что у нас > 100% (например 110%). Если что-то есть, то мы берем и считаем (110 - 100 = 10)\n",
    "Эти 10% мы вычитаем из каждого значения моторов.\n",
    "3) При этом мы финально проверяем значение моторов. Они не могут быть меньше, чем MIN_ACTIVE_THROTTLE\n",
    "\n",
    "С такой логикой:\n",
    "1) мы не можем получить ситуацию, когда у нас < MIN_ACTIVE_THROTTLE мощность\n",
    "2) мы не можем получить ситуацию, когда у нас > 100% мощность подается на моторы\n",
    "\n",
    "\n",
    "\n",
    "мы хотим минимальное значение на моторах.\n",
    "Если мы хотим выключить моторы, мы делаем полный \n",
    "\n",
    "0...\n",
    "\n",
    "\"\"\"\n",
    "\n"
   ]
  }
 ],
 "metadata": {
  "kernelspec": {
   "display_name": "Python 3 (ipykernel)",
   "language": "python",
   "name": "python3"
  },
  "language_info": {
   "codemirror_mode": {
    "name": "ipython",
    "version": 3
   },
   "file_extension": ".py",
   "mimetype": "text/x-python",
   "name": "python",
   "nbconvert_exporter": "python",
   "pygments_lexer": "ipython3",
   "version": "3.10.12"
  }
 },
 "nbformat": 4,
 "nbformat_minor": 5
}
