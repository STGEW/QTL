{
 "cells": [
  {
   "cell_type": "code",
   "execution_count": 2,
   "id": "8b73ea7b-a7a4-4224-ae14-878e19876834",
   "metadata": {},
   "outputs": [],
   "source": [
    "import re"
   ]
  },
  {
   "cell_type": "code",
   "execution_count": 22,
   "id": "463c82fa-643e-422d-aaf8-7f001f9def07",
   "metadata": {},
   "outputs": [],
   "source": [
    "acc_x_patt = re.compile(r'\"acc_x\": (?P<acc_x>-?\\d+.?\\d+),')"
   ]
  },
  {
   "cell_type": "code",
   "execution_count": 23,
   "id": "d48fb72e-266d-4ae2-9b83-1ff3acf6fec3",
   "metadata": {},
   "outputs": [],
   "source": [
    "text = '''\n",
    "[2024-11-15T15:54:23.343Z] IMU values: {\n",
    "  \"acc_x\": 0.24,\n",
    "  \"acc_y\": -0.3,\n",
    "  \"acc_z\": -8.83,\n",
    "  \"gyro_x\": -2.93,\n",
    "  \"gyro_y\": 0.96,\n",
    "  \"gyro_z\": -1.19\n",
    "}\n",
    "'''"
   ]
  },
  {
   "cell_type": "code",
   "execution_count": 30,
   "id": "0828c9d9-d01e-44f2-a505-8b8901a737d8",
   "metadata": {},
   "outputs": [],
   "source": [
    "matches = acc_x_patt.search(text)"
   ]
  },
  {
   "cell_type": "code",
   "execution_count": 31,
   "id": "12429e08-fbfe-450e-a168-97d884cbf8e1",
   "metadata": {},
   "outputs": [
    {
     "name": "stdout",
     "output_type": "stream",
     "text": [
      "0.24\n"
     ]
    }
   ],
   "source": [
    "print(matches.group('acc_x'))"
   ]
  }
 ],
 "metadata": {
  "kernelspec": {
   "display_name": "Python 3 (ipykernel)",
   "language": "python",
   "name": "python3"
  },
  "language_info": {
   "codemirror_mode": {
    "name": "ipython",
    "version": 3
   },
   "file_extension": ".py",
   "mimetype": "text/x-python",
   "name": "python",
   "nbconvert_exporter": "python",
   "pygments_lexer": "ipython3",
   "version": "3.10.12"
  }
 },
 "nbformat": 4,
 "nbformat_minor": 5
}
